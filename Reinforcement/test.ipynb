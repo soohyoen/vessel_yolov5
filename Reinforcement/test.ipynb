{
 "cells": [
  {
   "cell_type": "code",
   "execution_count": 18,
   "metadata": {},
   "outputs": [],
   "source": [
    "from tkinter import Tk\n",
    " \n",
    "if __name__ == \"__main__\":\n",
    "    root = Tk()\n",
    "    root.title(\"이것은 제목 문장이다.\")\n",
    "    root.mainloop()"
   ]
  },
  {
   "cell_type": "code",
   "execution_count": 16,
   "metadata": {},
   "outputs": [],
   "source": [
    "from tkinter import Tk\n",
    " \n",
    "if __name__ == \"__main__\":\n",
    "    tk = Tk()\n",
    "    canvas = Canvas(tk, width = 400, height = 400)\n",
    "    canvas.pack()\n",
    "    oval = canvas.create_oval(10, 10, 50, 50, fill = \"red\")\n",
    "    ovalPosition = canvas.coords(oval)"
   ]
  },
  {
   "cell_type": "code",
   "execution_count": 19,
   "metadata": {},
   "outputs": [],
   "source": [
    "import time\n",
    "\n",
    "from tkinter import *\n",
    "\n",
    "tk = Tk()\n",
    "\n",
    "canvas = Canvas(tk, width = 400, height = 200)\n",
    "\n",
    "canvas.pack()\n",
    "\n",
    "canvas.create_polygon(10, 10, 10, 60, 50, 35)\n",
    "\n",
    "for x in range(0, 60):\n",
    "    canvas.move(1, 5, 0)\n",
    "    tk.update()\n",
    "    time.sleep(0.05)"
   ]
  },
  {
   "cell_type": "code",
   "execution_count": 3,
   "metadata": {},
   "outputs": [
    {
     "name": "stdout",
     "output_type": "stream",
     "text": [
      "[0 0]\n"
     ]
    }
   ],
   "source": [
    "base_action = np.array([0,0])\n",
    "print(base_action)"
   ]
  },
  {
   "cell_type": "code",
   "execution_count": 2,
   "metadata": {},
   "outputs": [],
   "source": [
    "import numpy as np"
   ]
  },
  {
   "cell_type": "code",
   "execution_count": null,
   "metadata": {},
   "outputs": [],
   "source": []
  }
 ],
 "metadata": {
  "kernelspec": {
   "display_name": "rein",
   "language": "python",
   "name": "rein"
  },
  "language_info": {
   "codemirror_mode": {
    "name": "ipython",
    "version": 3
   },
   "file_extension": ".py",
   "mimetype": "text/x-python",
   "name": "python",
   "nbconvert_exporter": "python",
   "pygments_lexer": "ipython3",
   "version": "3.5.6"
  }
 },
 "nbformat": 4,
 "nbformat_minor": 2
}
