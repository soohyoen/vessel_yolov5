{
 "cells": [
  {
   "cell_type": "code",
   "execution_count": 2,
   "metadata": {},
   "outputs": [
    {
     "name": "stdout",
     "output_type": "stream",
     "text": [
      "importing Jupyter notebook from environment.ipynb\n"
     ]
    }
   ],
   "source": [
    "# -*- coding: utf-8 -*-\n",
    "import import_ipynb\n",
    "from environment import GraphicDisplay, Env\n",
    "\n",
    "class ValueIteration:\n",
    "    def __init__(self, env):\n",
    "        self.env = env\n",
    "        # 2-d list for the value function\n",
    "        self.value_table = [[0.0] * env.width for _ in range(env.height)]\n",
    "        self.discount_factor = 0.9\n",
    "\n",
    "    # get next value function table from the current value function table\n",
    "    def value_iteration(self):\n",
    "        next_value_table = [[0.0] * self.env.width\n",
    "                                    for _ in range(self.env.height)]\n",
    "        for state in self.env.get_all_states():\n",
    "            if state == [2, 2]:\n",
    "                next_value_table[state[0]][state[1]] = 0.0\n",
    "                continue\n",
    "            value_list = []\n",
    "\n",
    "            for action in self.env.possible_actions:\n",
    "                next_state = self.env.state_after_action(state, action)\n",
    "                reward = self.env.get_reward(state, action)\n",
    "                next_value = self.get_value(next_state)\n",
    "                value_list.append((reward + self.discount_factor * next_value))\n",
    "            # return the maximum value(it is the optimality equation!!)\n",
    "            next_value_table[state[0]][state[1]] = round(max(value_list), 2)\n",
    "        self.value_table = next_value_table\n",
    "\n",
    "    # get action according to the current value function table\n",
    "    def get_action(self, state):\n",
    "        action_list = []\n",
    "        max_value = -99999\n",
    "\n",
    "        if state == [2, 2]:\n",
    "            return []\n",
    "\n",
    "        # calculating q values for the all actions and\n",
    "        # append the action to action list which has maximum q value\n",
    "        for action in self.env.possible_actions:\n",
    "\n",
    "            next_state = self.env.state_after_action(state, action)\n",
    "            reward = self.env.get_reward(state, action)\n",
    "            next_value = self.get_value(next_state)\n",
    "            value = (reward + self.discount_factor * next_value)\n",
    "\n",
    "            if value > max_value:\n",
    "                action_list.clear()\n",
    "                action_list.append(action)\n",
    "                max_value = value\n",
    "            elif value == max_value:\n",
    "                action_list.append(action)\n",
    "\n",
    "        return action_list\n",
    "\n",
    "    def get_value(self, state):\n",
    "        return round(self.value_table[state[0]][state[1]], 2)\n",
    "\n",
    "if __name__ == \"__main__\":\n",
    "    env = Env()\n",
    "    value_iteration = ValueIteration(env)\n",
    "    grid_world = GraphicDisplay(value_iteration)\n",
    "    grid_world.mainloop()"
   ]
  },
  {
   "cell_type": "code",
   "execution_count": null,
   "metadata": {},
   "outputs": [],
   "source": []
  }
 ],
 "metadata": {
  "kernelspec": {
   "display_name": "rein",
   "language": "python",
   "name": "rein"
  },
  "language_info": {
   "codemirror_mode": {
    "name": "ipython",
    "version": 3
   },
   "file_extension": ".py",
   "mimetype": "text/x-python",
   "name": "python",
   "nbconvert_exporter": "python",
   "pygments_lexer": "ipython3",
   "version": "3.5.6"
  }
 },
 "nbformat": 4,
 "nbformat_minor": 2
}
